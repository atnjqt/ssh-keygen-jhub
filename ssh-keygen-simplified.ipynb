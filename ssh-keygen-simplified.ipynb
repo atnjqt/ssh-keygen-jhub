{
 "cells": [
  {
   "cell_type": "markdown",
   "id": "587d7033-960d-4558-b01c-f355436c810e",
   "metadata": {
    "scrolled": true
   },
   "source": [
    "# SIMPLIFIED - Generate SSH Keys on [Commjhub](https://commjhub.asc.upenn.edu/) for GitHub 🚀🔑⚡\n",
    "\n",
    "Etienne P Jacquot (ASC IT Systems Administrator) - [epj@asc.upenn.edu](mailto:epj@asc.upenn.edu)\n",
    "\n",
    "- Last edited: 01/31/2024\n",
    "\n",
    "________________________\n",
    "\n",
    "### Step 1. Run the below code on https://commjhub.asc.upenn.edu"
   ]
  },
  {
   "cell_type": "code",
   "execution_count": 5,
   "id": "d5b40ab0-ee90-4a4c-8249-1b847460c6ec",
   "metadata": {},
   "outputs": [
    {
     "name": "stdout",
     "output_type": "stream",
     "text": [
      "/Commjhub/jupyterhub/home/atnjqt/.ssh/id_ed25519 already exists.\n",
      "Overwrite (y/n)? Agent pid 2068990\n"
     ]
    },
    {
     "name": "stderr",
     "output_type": "stream",
     "text": [
      "Identity added: /Commjhub/jupyterhub/home/atnjqt/.ssh/id_ed25519 (atnjqt@commjhub.asc.upenn.edu)\n"
     ]
    }
   ],
   "source": [
    "%%bash\n",
    "ssh-keygen -t ed25519 -C $USER\"@commjhub.asc.upenn.edu\" -f $HOME/.ssh/id_ed25519 -N \"\" -q <<< y && \\\n",
    "eval \"$(ssh-agent -s)\" && \\\n",
    "ssh-add $HOME/.ssh/id_ed25519"
   ]
  },
  {
   "cell_type": "markdown",
   "id": "42c86042-032e-4be3-a45e-4714f5695d73",
   "metadata": {},
   "source": [
    "### Step 2. Display the key here:"
   ]
  },
  {
   "cell_type": "code",
   "execution_count": 7,
   "id": "92845cb0-bcd4-41aa-a3d4-c7e9d6597a39",
   "metadata": {},
   "outputs": [
    {
     "name": "stdout",
     "output_type": "stream",
     "text": [
      "ssh-ed25519 AAAAC3NzaC1lZDI1NTE5AAAAIEFaxh/PeLKMsKNNs1hrTFI/Nz1tkCgabmTugTKt2UxJ atnjqt@commjhub.asc.upenn.edu\n"
     ]
    }
   ],
   "source": [
    "%%bash\n",
    "cat $HOME/.ssh/id_ed25519.pub"
   ]
  },
  {
   "cell_type": "markdown",
   "id": "e4856fa8-80dc-4ef1-b497-72eead76bba8",
   "metadata": {},
   "source": [
    "### Step 3. Copy the above value and save to your GitHub Account\n",
    "\n",
    "> namely, here: https://github.com/settings/keys"
   ]
  },
  {
   "cell_type": "markdown",
   "id": "65e4338a-6e78-4ecc-84de-3f16b070ec0f",
   "metadata": {},
   "source": [
    "### Step 4. Confirm your access is good to go by running:"
   ]
  },
  {
   "cell_type": "code",
   "execution_count": 10,
   "id": "e21bc1fb-bbc4-43df-99cb-42ad5a2c2c77",
   "metadata": {},
   "outputs": [
    {
     "name": "stdout",
     "output_type": "stream",
     "text": [
      "Hi atnjqt! You've successfully authenticated, but GitHub does not provide shell access.\n"
     ]
    }
   ],
   "source": [
    "!ssh -T git@github.com "
   ]
  },
  {
   "cell_type": "markdown",
   "id": "63a1f23b-e15e-4bcc-bab4-4cdfe981e339",
   "metadata": {},
   "source": [
    "> If you did not get a successfully authenticated message, reach out to me at [epj@asc.upenn.edu](mailto:epj@asc.upenn.edu)"
   ]
  }
 ],
 "metadata": {
  "citation-manager": {
   "items": {}
  },
  "kernelspec": {
   "display_name": "Python 3.8",
   "language": "python",
   "name": "python3"
  },
  "language_info": {
   "codemirror_mode": {
    "name": "ipython",
    "version": 3
   },
   "file_extension": ".py",
   "mimetype": "text/x-python",
   "name": "python",
   "nbconvert_exporter": "python",
   "pygments_lexer": "ipython3",
   "version": "3.8.8"
  }
 },
 "nbformat": 4,
 "nbformat_minor": 5
}
