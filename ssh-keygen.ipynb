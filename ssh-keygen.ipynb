{
 "cells": [
  {
   "cell_type": "markdown",
   "metadata": {},
   "source": [
    "# Generate SSH Keys on [Commjhub](https://commjhub.asc.upenn.edu/) for GitHub 🚀🔑⚡\n",
    "\n",
    "Etienne P Jacquot - [epj@asc.upenn.edu](mailto:epj@asc.upenn.edu)\n",
    "\n",
    "_______\n",
    "\n",
    "## Getting Started\n",
    "\n",
    "Following instructions here: https://docs.github.com/en/github/authenticating-to-github/generating-a-new-ssh-key-and-adding-it-to-the-ssh-agent\n",
    "\n",
    "We do *NOT* want to have undergraduate students entering passwords in plain text!!! SSH is preferred!\n",
    "\n",
    "\n",
    "### *EXAMPLE: We run this in *one* bash line, instead of multiple python cells:*\n",
    "\n",
    "``` bash\n",
    "\n",
    "ssh-keygen -t ed25519 -C \"YOUR_EMAIL@gmail.com\" -f $HOME/.ssh/id_rsa -N \"\" <<< y\n",
    "eval \"$(ssh-agent -s)\"\n",
    "ssh-add $HOME/.ssh/id_rsa -vvv\n",
    "\n",
    "```\n",
    "\n",
    "______"
   ]
  },
  {
   "cell_type": "markdown",
   "metadata": {},
   "source": [
    "### To create your SSH key and add to your SSH-Agent:\n",
    "\n",
    "\n",
    "- Default directory is for `$HOME/.ssh/id_rsa`\n",
    "\n",
    "\n",
    "- This defaults to *NO* password with the `-N \"\"` flag\n",
    "\n",
    "\n",
    "- We include the `<<< y` to overwrite an existing key. Be careful to not rerun this cell *after* uploading your SSH key to github as it'll overwrite!"
   ]
  },
  {
   "cell_type": "code",
   "execution_count": 1,
   "metadata": {},
   "outputs": [
    {
     "name": "stdout",
     "output_type": "stream",
     "text": [
      "Generating public/private ed25519 key pair.\n",
      "/Commjhub/jupyterhub/comm318_fall2019/{atnjqt}/.ssh/id_rsa already exists.\n",
      "Overwrite (y/n)? Your identification has been saved in /Commjhub/jupyterhub/comm318_fall2019/{atnjqt}/.ssh/id_rsa.\n",
      "Your public key has been saved in /Commjhub/jupyterhub/comm318_fall2019/{atnjqt}/.ssh/id_rsa.pub.\n",
      "The key fingerprint is:\n",
      "SHA256:kIt2DTREzg+uLyk4v2htq2ZPnPG4LxqZgvaNreKHxXM jacquot.etienne@gmail.com\n",
      "The key's randomart image is:\n",
      "+--[ED25519 256]--+\n",
      "|     o=          |\n",
      "|     + o         |\n",
      "|      B          |\n",
      "|     o B         |\n",
      "|  ..o + S        |\n",
      "|. +==E           |\n",
      "|o*+=+o           |\n",
      "|=B==B.           |\n",
      "|**XX==.          |\n",
      "+----[SHA256]-----+\n",
      "Agent pid 20062\n",
      "Identity added: /Commjhub/jupyterhub/comm318_fall2019/{atnjqt}/.ssh/id_rsa (jacquot.etienne@gmail.com)\n"
     ]
    }
   ],
   "source": [
    "!ssh-keygen -t ed25519 -C \"jacquot.etienne@gmail.com\" -f $HOME/.ssh/id_rsa -N \"\" <<< y && \\\n",
    "eval \"$(ssh-agent -s)\" && \\\n",
    "ssh-add $HOME/.ssh/id_rsa"
   ]
  },
  {
   "cell_type": "markdown",
   "metadata": {},
   "source": [
    "_______\n",
    "### Proceed by copying your public key\n",
    "\n",
    "- Remember to *NEVER* share your private key `.ssh/id_rsa`!\n",
    "\n",
    "- You need to copy the full result to your clipboard:"
   ]
  },
  {
   "cell_type": "code",
   "execution_count": 2,
   "metadata": {},
   "outputs": [
    {
     "name": "stdout",
     "output_type": "stream",
     "text": [
      "ssh-ed25519 AAAAC3NzaC1lZDI1NTE5AAAAIAIE5MMMVIe+UMwFKmnPXexBdBC1IpuKsowf7qC2aZ19 jacquot.etienne@gmail.com\r\n"
     ]
    }
   ],
   "source": [
    "!cat $HOME/.ssh/id_rsa.pub"
   ]
  },
  {
   "cell_type": "markdown",
   "metadata": {},
   "source": [
    "### Upload your public key to Github\n",
    "\n",
    "Following the instructions here: https://docs.github.com/en/github/authenticating-to-github/adding-a-new-ssh-key-to-your-github-account \n",
    "\n",
    "- This is a manual step that you must do on your https://github.com/ login... For example:\n",
    "\n",
    "\n",
    "<img width='800' src='https://imghost.asc.upenn.edu/documentation/commjhub_ssh-pub-key.png' alt='Screenshot of Github New SSH Public Key configuration' style=\"vertical-align:middle;margin:0px 50px\"/> \n",
    "\n",
    "\n",
    "___________\n",
    "\n",
    "### Confirm access by git cloning a private repository via SSH instead of HTTPS\n",
    "\n",
    "Once your SSH public key is uploaded to github you should be good to go following instructions here: https://docs.github.com/en/github/authenticating-to-github/testing-your-ssh-connection\n",
    "\n",
    "- **TODO -->** Not sure how to automate the *YES* response for known host, there is a flag which isn't really recommended but lets you ignore host checking. For simplicity of this demonstration let us assume no man-in-the-middle attack on GitHub... "
   ]
  },
  {
   "cell_type": "code",
   "execution_count": 3,
   "metadata": {},
   "outputs": [
    {
     "name": "stdout",
     "output_type": "stream",
     "text": [
      "Warning: Permanently added 'github.com,140.82.113.3' (RSA) to the list of known hosts.\n",
      "Hi atnjqt! You've successfully authenticated, but GitHub does not provide shell access.\n"
     ]
    }
   ],
   "source": [
    "# For initial git ssh testing, either add your known hosts file OR use flag to ignore\n",
    "!ssh -o \"StrictHostKeyChecking no\" -T git@github.com"
   ]
  },
  {
   "cell_type": "code",
   "execution_count": 4,
   "metadata": {},
   "outputs": [
    {
     "name": "stdout",
     "output_type": "stream",
     "text": [
      "Hi atnjqt! You've successfully authenticated, but GitHub does not provide shell access.\r\n"
     ]
    }
   ],
   "source": [
    "# You can always confirm your access know that the known host is added:\n",
    "!ssh -T git@github.com"
   ]
  },
  {
   "cell_type": "markdown",
   "metadata": {},
   "source": [
    "___________\n",
    "\n",
    "## Set your global git configuration on Commjhub:\n",
    "\n",
    "- You must include your `firstname`, `lastname`, and `email`. These are really just unique identifiers so please set to something meaningful.\n",
    "\n",
    "- Include the `--replace-all` if you want to overwrite all your git configurations. \n"
   ]
  },
  {
   "cell_type": "markdown",
   "metadata": {},
   "source": [
    "### Your personal information here:"
   ]
  },
  {
   "cell_type": "code",
   "execution_count": 5,
   "metadata": {},
   "outputs": [],
   "source": [
    "firstname = \"Etienne\"\n",
    "lastname = \"Jacquot\"\n",
    "email = 'jacquot.etienne@gmail.com'"
   ]
  },
  {
   "cell_type": "markdown",
   "metadata": {},
   "source": [
    "### Set your Git Global configurations:"
   ]
  },
  {
   "cell_type": "code",
   "execution_count": 8,
   "metadata": {},
   "outputs": [],
   "source": [
    "my_name = '\"{} {}\"'.format(firstname,lastname) # <--- formatting name\n",
    "\n",
    "!git config --global --replace-all user.name $my_name\n",
    "\n",
    "!git config --global --replace-all user.email $email\n",
    "\n",
    "!git config --global push.default simple # <--- for older versions of git"
   ]
  },
  {
   "cell_type": "markdown",
   "metadata": {},
   "source": [
    "### Confirm your git configurations:"
   ]
  },
  {
   "cell_type": "code",
   "execution_count": 9,
   "metadata": {},
   "outputs": [
    {
     "name": "stdout",
     "output_type": "stream",
     "text": [
      "user.email=jacquot.etienne@gmail.com\r\n",
      "user.name=Etienne Jacquot\r\n",
      "push.default=simple\r\n"
     ]
    }
   ],
   "source": [
    "!git config --list"
   ]
  },
  {
   "cell_type": "markdown",
   "metadata": {},
   "source": [
    "_______________\n",
    "\n",
    "## SSH Clone a private git repo to make changes:\n",
    "\n",
    "I have an old private git repo here: https://github.com/atnjqt/ASC_Cryptominer\n",
    "\n",
    "- For this to work, you need *your own private git repository!*"
   ]
  },
  {
   "cell_type": "code",
   "execution_count": 12,
   "metadata": {},
   "outputs": [
    {
     "name": "stdout",
     "output_type": "stream",
     "text": [
      "Cloning into 'ASC_Cryptominer'...\n",
      "Warning: Permanently added the RSA host key for IP address '140.82.113.4' to the list of known hosts.\n",
      "remote: Enumerating objects: 46, done.\u001b[K\n",
      "remote: Counting objects: 100% (46/46), done.\u001b[K\n",
      "remote: Compressing objects: 100% (38/38), done.\u001b[K\n",
      "remote: Total 46 (delta 17), reused 10 (delta 2), pack-reused 0\u001b[K\n",
      "Receiving objects: 100% (46/46), 3.61 MiB | 0 bytes/s, done.\n",
      "Resolving deltas: 100% (17/17), done.\n"
     ]
    }
   ],
   "source": [
    "!git clone git@github.com:atnjqt/ASC_Cryptominer.git"
   ]
  },
  {
   "cell_type": "markdown",
   "metadata": {},
   "source": [
    "__________\n",
    "\n",
    "## Manually go into your git repo, make a change, then run the below cells to add your commit & push\n",
    "\n",
    "In my case my git repo is of course: [ASC_Cryptominer/](./ASC_Cryptominer/)\n",
    "\n",
    "\n",
    "- **Please note:** we include `!cd your_private_repo_name/` at the beginning of each cmd. This is just to *change directory* so our git commands are referencing the correct directory\n",
    "\n",
    "### Check the status to confirm your changes:\n",
    "\n",
    "Should have something like\n",
    "\n",
    "```\n",
    "# On branch master\n",
    "# Changes not staged for commit:\n",
    "#   (use \"git add <file>...\" to update what will be committed)\n",
    "#   (use \"git checkout -- <file>...\" to discard changes in working directory)\n",
    "#\n",
    "#\tmodified:   THE_FILE_THAT_YOU_CHANGED.txt\n",
    "#\n",
    "no changes added to commit (use \"git add\" and/or \"git commit -a\")\n",
    "\n",
    "```"
   ]
  },
  {
   "cell_type": "code",
   "execution_count": 14,
   "metadata": {},
   "outputs": [
    {
     "name": "stdout",
     "output_type": "stream",
     "text": [
      "# On branch master\n",
      "# Changes not staged for commit:\n",
      "#   (use \"git add <file>...\" to update what will be committed)\n",
      "#   (use \"git checkout -- <file>...\" to discard changes in working directory)\n",
      "#\n",
      "#\tmodified:   COMMJHUB_SSH_TEST/TESTING.txt\n",
      "#\n",
      "no changes added to commit (use \"git add\" and/or \"git commit -a\")\n"
     ]
    }
   ],
   "source": [
    "!cd ASC_Cryptominer/ && \\\n",
    "git status"
   ]
  },
  {
   "cell_type": "markdown",
   "metadata": {},
   "source": [
    "### Add and Commit your changes for the private git repo\n",
    "\n",
    "- Always include a meaningful message!"
   ]
  },
  {
   "cell_type": "code",
   "execution_count": 15,
   "metadata": {},
   "outputs": [
    {
     "name": "stdout",
     "output_type": "stream",
     "text": [
      "[master c55fbfe] testing file changes for private repo ssh\r\n",
      " 1 file changed, 3 insertions(+), 1 deletion(-)\r\n"
     ]
    }
   ],
   "source": [
    "!cd ASC_Cryptominer && \\\n",
    "git add --all && \\\n",
    "git commit -m 'testing file changes for private repo ssh'"
   ]
  },
  {
   "cell_type": "markdown",
   "metadata": {},
   "source": [
    "### Finally, push your changes to a private git repository:\n"
   ]
  },
  {
   "cell_type": "code",
   "execution_count": 17,
   "metadata": {},
   "outputs": [
    {
     "name": "stdout",
     "output_type": "stream",
     "text": [
      "Pushing to git@github.com:atnjqt/ASC_Cryptominer.git\n",
      "Warning: Permanently added the RSA host key for IP address '140.82.112.4' to the list of known hosts.\n",
      "Counting objects: 7, done.\n",
      "Delta compression using up to 16 threads.\n",
      "Compressing objects: 100% (3/3), done.\n",
      "Writing objects: 100% (4/4), 390 bytes | 0 bytes/s, done.\n",
      "Total 4 (delta 2), reused 0 (delta 0)\n",
      "remote: Resolving deltas: 100% (2/2), completed with 2 local objects.\u001b[K\n",
      "To git@github.com:atnjqt/ASC_Cryptominer.git\n",
      "   c144e44..c55fbfe  master -> master\n",
      "updating local tracking ref 'refs/remotes/origin/master'\n"
     ]
    }
   ],
   "source": [
    "!cd ASC_Cryptominer/ && \\\n",
    "git push -v"
   ]
  },
  {
   "cell_type": "markdown",
   "metadata": {},
   "source": [
    "### If that git push fails...\n",
    "\n",
    "\n",
    "- If you are using branches or get an error, try `git push origin master`\n",
    "\n",
    "\n",
    "- If you get a warning about `github push.default is unset behavior`... just run (included above so you shouldn't get this, probably git needs to be upgraded on Commjhub VM):\n",
    "\n",
    "``` bash\n",
    "git config --global push.default simple\n",
    "```\n",
    "\n",
    "______\n",
    "\n",
    "- If you are still having issues, send me an email at [epj@asc.upenn.edu](mailto:epj@asc.upenn.edu) 🚀\n",
    "\n",
    "<img width='550' src='https://imghost.asc.upenn.edu/gifs/atn_zoomba.gif'/> "
   ]
  }
 ],
 "metadata": {
  "kernelspec": {
   "display_name": "Python 3",
   "language": "python",
   "name": "python3"
  },
  "language_info": {
   "codemirror_mode": {
    "name": "ipython",
    "version": 3
   },
   "file_extension": ".py",
   "mimetype": "text/x-python",
   "name": "python",
   "nbconvert_exporter": "python",
   "pygments_lexer": "ipython3",
   "version": "3.7.3"
  }
 },
 "nbformat": 4,
 "nbformat_minor": 2
}
