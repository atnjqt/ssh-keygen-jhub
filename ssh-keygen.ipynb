{
 "cells": [
  {
   "cell_type": "markdown",
   "metadata": {},
   "source": [
    "# Generate SSH Keys on [Commjhub](https://commjhub.asc.upenn.edu/) for GitHub 🚀🔑⚡\n",
    "\n",
    "Etienne P Jacquot - [epj@asc.upenn.edu](mailto:epj@asc.upenn.edu)\n",
    "\n",
    "- Last edited: 08/24/2021\n",
    "\n",
    "________\n",
    "\n",
    "## Getting Started\n",
    "\n",
    "Following official instructions [here](https://docs.github.com/en/github/authenticating-to-github/generating-a-new-ssh-key-and-adding-it-to-the-ssh-agent).\n",
    "\n",
    "> We do *NOT* want to have undergraduate students entering passwords in plain text -- Configuring SSH keys is a must!!!\n",
    "\n",
    "\n",
    "### 1. Create your SSH key & add to your SSH-Agent:\n",
    "\n",
    "- Default directory is for `$HOME/.ssh/id_rsa` by including `-f` flag\n",
    "\n",
    "- We default to **NO** password by including `-N \"\"` flag & empty phrase\n",
    "\n",
    "- We include the `<<< y` to overwrite an existing key!\n",
    "\n",
    "- the `&&\\` joins multiple bash commands and wraps text (*i.e. for formatting a one liner*)\n"
   ]
  },
  {
   "cell_type": "code",
   "execution_count": 1,
   "metadata": {},
   "outputs": [
    {
     "name": "stdout",
     "output_type": "stream",
     "text": [
      "Generating public/private ed25519 key pair.\n",
      "/Commjhub/jupyterhub/home/atnjqt/.ssh/id_rsa already exists.\n",
      "Overwrite (y/n)? Your identification has been saved in /Commjhub/jupyterhub/home/atnjqt/.ssh/id_rsa\n",
      "Your public key has been saved in /Commjhub/jupyterhub/home/atnjqt/.ssh/id_rsa.pub\n",
      "The key fingerprint is:\n",
      "SHA256:Nvs3N2YvuBcHf9o2MJvQbHNIfXI0rAKB2f6vRSa90qg atnjqt@commjhub.asc.upenn.edu\n",
      "The key's randomart image is:\n",
      "+--[ED25519 256]--+\n",
      "|        +..   .  |\n",
      "|       o o     o.|\n",
      "|        . .   o..|\n",
      "|         . ..oo.o|\n",
      "|        S ..=+.=.|\n",
      "|       . o o*Oo.+|\n",
      "|        .  o+=B=.|\n",
      "|         .. *+O.o|\n",
      "|         E.ooB =o|\n",
      "+----[SHA256]-----+\n",
      "Agent pid 31735\n"
     ]
    },
    {
     "name": "stderr",
     "output_type": "stream",
     "text": [
      "Identity added: /Commjhub/jupyterhub/home/atnjqt/.ssh/id_rsa (atnjqt@commjhub.asc.upenn.edu)\n"
     ]
    }
   ],
   "source": [
    "%%bash\n",
    "ssh-keygen -t ed25519 -C $USER\"@commjhub.asc.upenn.edu\" -f $HOME/.ssh/id_rsa -N \"\" <<< y && \\\n",
    "eval \"$(ssh-agent -s)\" && \\\n",
    "ssh-add $HOME/.ssh/id_rsa"
   ]
  },
  {
   "cell_type": "markdown",
   "metadata": {},
   "source": [
    "_______\n",
    "### 2. Copy Public SSH key from Commjhub\n",
    "\n",
    "\n",
    "Copy the full result of `.ssh/id_rsa.pub` to your clipboard\n",
    "\n",
    "> **Remember to never share your private key! If compromised, you need to simple regenerate.**\n",
    "> - As in, do not share `.ssh/id_rsa`! That is like sharing a blueprint to replicate your house key 🔑"
   ]
  },
  {
   "cell_type": "code",
   "execution_count": 2,
   "metadata": {},
   "outputs": [
    {
     "name": "stdout",
     "output_type": "stream",
     "text": [
      "ssh-ed25519 AAAAC3NzaC1lZDI1NTE5AAAAIJhCEhF/FjCq84AU3P2z71LkjYBk7WDLTDOkkL9FB4lv atnjqt@commjhub.asc.upenn.edu\n"
     ]
    }
   ],
   "source": [
    "%%bash\n",
    "cat $HOME/.ssh/id_rsa.pub"
   ]
  },
  {
   "cell_type": "markdown",
   "metadata": {},
   "source": [
    "____________\n",
    "### 3. Upload Public SSH key to Github\n",
    "\n",
    "Navigate to [https://github.com/settings/keys](https://github.com/settings/keys) and upload your public SSH key (more info [here](https://docs.github.com/en/github/authenticating-to-github/adding-a-new-ssh-key-to-your-github-account)).\n",
    "\n",
    "<img width='700' src='https://imghost.asc.upenn.edu/documentation/commjhub_ssh-pubkey.png' alt='Screenshot of Github New SSH Public Key configuration' style=\"vertical-align:middle;margin:0px 50px\"/> \n",
    "\n",
    "____________\n",
    "\n",
    "## 4. Testing your SSH Access to Github.com\n",
    "\n",
    "Once your SSH public key is uploaded to github, proceed to securely test your connection (more info [here](https://docs.github.com/en/github/authenticating-to-github/testing-your-ssh-connection)).\n",
    "\n",
    "\n",
    "### Retrieve SSH host information & RSA fingerprint over the internet\n",
    "\n",
    "- *Manually navigate to obtain the **Official RSA public key fingerprint for Github.com** [here](https://docs.github.com/en/github/authenticating-to-github/githubs-ssh-key-fingerprints)*\n",
    "    - You must set this as your `rsa_fp=SHA256:...` value in the cell below!\n",
    "   \n",
    "\n",
    "\n",
    "\n",
    "- We then scan with `ssh-keyscan` and write response to local file [./github_host_info](./github_host_info). We then generate the fingerprint hash for our scanned host information and write to another local file [./fingerprint_rsa](./fingerprint_rsa). \n",
    "\n",
    "\n",
    "> *This allows us to compare the trusted host identifier with the actual host (untrusted) identifier we get over public internet, to then safely add to our known_hosts file... \n",
    "This example is based on a helpful serverfault question [here](https://serverfault.com/questions/856194/securely-add-a-host-e-g-github-to-the-ssh-known-hosts-file).*\n"
   ]
  },
  {
   "cell_type": "code",
   "execution_count": 3,
   "metadata": {},
   "outputs": [
    {
     "name": "stderr",
     "output_type": "stream",
     "text": [
      "# github.com:22 SSH-2.0-babeld-91825f0b\n"
     ]
    }
   ],
   "source": [
    "%%bash\n",
    "\n",
    "export rsa_fp='SHA256:nThbg6kXUpJWGl7E1IGOCspRomTxdCARLviKw6E5SY8' # <-- ADD LEGIT VALUE HERE\n",
    "\n",
    "ssh-keyscan -t rsa github.com | tee ./github_host_info | ssh-keygen -lf - >> ./fingerprint_rsa\n",
    "set -e # <-- Bash will break on error (i.e. if python assertion fails)\n",
    "python -c \"assert('$rsa_fp' == open('./fingerprint_rsa', 'r').read().split()[1])\"\n",
    "cat ./github_host_info >> $HOME/.ssh/known_hosts"
   ]
  },
  {
   "cell_type": "markdown",
   "metadata": {
    "tags": []
   },
   "source": [
    "#### *If the above assertion fails...*\n",
    "\n",
    "Then the value was *not* added to your known hosts file... Try to resolve with:\n",
    "\n",
    "- confirm you set the correct `rsa_pubkey_fingerprint` from [here](https://docs.github.com/en/github/authenticating-to-github/githubs-ssh-key-fingerprints)\n",
    "- confirm there is no man in the middle attack for github.com on your local network (you have bigger problems if that is the case!)...\n",
    "________________\n",
    "\n",
    "## 5. Finally, Confirm SSH Connectivity to Github\n",
    "\n",
    "To confirm your access:\n",
    "- we avoid `-StrictHostKeyChecking no` flag which is obviously insecure"
   ]
  },
  {
   "cell_type": "code",
   "execution_count": 5,
   "metadata": {
    "tags": []
   },
   "outputs": [
    {
     "name": "stderr",
     "output_type": "stream",
     "text": [
      "Warning: Permanently added the RSA host key for IP address '140.82.113.3' to the list of known hosts.\n",
      "Hi atnjqt! You've successfully authenticated, but GitHub does not provide shell access.\n"
     ]
    },
    {
     "ename": "CalledProcessError",
     "evalue": "Command 'b'ssh -T git@github.com\\n'' returned non-zero exit status 1.",
     "output_type": "error",
     "traceback": [
      "\u001b[0;31m---------------------------------------------------------------------------\u001b[0m",
      "\u001b[0;31mCalledProcessError\u001b[0m                        Traceback (most recent call last)",
      "\u001b[0;32m<ipython-input-5-243c7fd0eb16>\u001b[0m in \u001b[0;36m<module>\u001b[0;34m\u001b[0m\n\u001b[0;32m----> 1\u001b[0;31m \u001b[0mget_ipython\u001b[0m\u001b[0;34m(\u001b[0m\u001b[0;34m)\u001b[0m\u001b[0;34m.\u001b[0m\u001b[0mrun_cell_magic\u001b[0m\u001b[0;34m(\u001b[0m\u001b[0;34m'bash'\u001b[0m\u001b[0;34m,\u001b[0m \u001b[0;34m''\u001b[0m\u001b[0;34m,\u001b[0m \u001b[0;34m'ssh -T git@github.com\\n'\u001b[0m\u001b[0;34m)\u001b[0m\u001b[0;34m\u001b[0m\u001b[0;34m\u001b[0m\u001b[0m\n\u001b[0m",
      "\u001b[0;32m/usr/local/anaconda3/lib/python3.8/site-packages/IPython/core/interactiveshell.py\u001b[0m in \u001b[0;36mrun_cell_magic\u001b[0;34m(self, magic_name, line, cell)\u001b[0m\n\u001b[1;32m   2397\u001b[0m             \u001b[0;32mwith\u001b[0m \u001b[0mself\u001b[0m\u001b[0;34m.\u001b[0m\u001b[0mbuiltin_trap\u001b[0m\u001b[0;34m:\u001b[0m\u001b[0;34m\u001b[0m\u001b[0;34m\u001b[0m\u001b[0m\n\u001b[1;32m   2398\u001b[0m                 \u001b[0margs\u001b[0m \u001b[0;34m=\u001b[0m \u001b[0;34m(\u001b[0m\u001b[0mmagic_arg_s\u001b[0m\u001b[0;34m,\u001b[0m \u001b[0mcell\u001b[0m\u001b[0;34m)\u001b[0m\u001b[0;34m\u001b[0m\u001b[0;34m\u001b[0m\u001b[0m\n\u001b[0;32m-> 2399\u001b[0;31m                 \u001b[0mresult\u001b[0m \u001b[0;34m=\u001b[0m \u001b[0mfn\u001b[0m\u001b[0;34m(\u001b[0m\u001b[0;34m*\u001b[0m\u001b[0margs\u001b[0m\u001b[0;34m,\u001b[0m \u001b[0;34m**\u001b[0m\u001b[0mkwargs\u001b[0m\u001b[0;34m)\u001b[0m\u001b[0;34m\u001b[0m\u001b[0;34m\u001b[0m\u001b[0m\n\u001b[0m\u001b[1;32m   2400\u001b[0m             \u001b[0;32mreturn\u001b[0m \u001b[0mresult\u001b[0m\u001b[0;34m\u001b[0m\u001b[0;34m\u001b[0m\u001b[0m\n\u001b[1;32m   2401\u001b[0m \u001b[0;34m\u001b[0m\u001b[0m\n",
      "\u001b[0;32m/usr/local/anaconda3/lib/python3.8/site-packages/IPython/core/magics/script.py\u001b[0m in \u001b[0;36mnamed_script_magic\u001b[0;34m(line, cell)\u001b[0m\n\u001b[1;32m    140\u001b[0m             \u001b[0;32melse\u001b[0m\u001b[0;34m:\u001b[0m\u001b[0;34m\u001b[0m\u001b[0;34m\u001b[0m\u001b[0m\n\u001b[1;32m    141\u001b[0m                 \u001b[0mline\u001b[0m \u001b[0;34m=\u001b[0m \u001b[0mscript\u001b[0m\u001b[0;34m\u001b[0m\u001b[0;34m\u001b[0m\u001b[0m\n\u001b[0;32m--> 142\u001b[0;31m             \u001b[0;32mreturn\u001b[0m \u001b[0mself\u001b[0m\u001b[0;34m.\u001b[0m\u001b[0mshebang\u001b[0m\u001b[0;34m(\u001b[0m\u001b[0mline\u001b[0m\u001b[0;34m,\u001b[0m \u001b[0mcell\u001b[0m\u001b[0;34m)\u001b[0m\u001b[0;34m\u001b[0m\u001b[0;34m\u001b[0m\u001b[0m\n\u001b[0m\u001b[1;32m    143\u001b[0m \u001b[0;34m\u001b[0m\u001b[0m\n\u001b[1;32m    144\u001b[0m         \u001b[0;31m# write a basic docstring:\u001b[0m\u001b[0;34m\u001b[0m\u001b[0;34m\u001b[0m\u001b[0;34m\u001b[0m\u001b[0m\n",
      "\u001b[0;32m/usr/local/anaconda3/lib/python3.8/site-packages/decorator.py\u001b[0m in \u001b[0;36mfun\u001b[0;34m(*args, **kw)\u001b[0m\n\u001b[1;32m    229\u001b[0m             \u001b[0;32mif\u001b[0m \u001b[0;32mnot\u001b[0m \u001b[0mkwsyntax\u001b[0m\u001b[0;34m:\u001b[0m\u001b[0;34m\u001b[0m\u001b[0;34m\u001b[0m\u001b[0m\n\u001b[1;32m    230\u001b[0m                 \u001b[0margs\u001b[0m\u001b[0;34m,\u001b[0m \u001b[0mkw\u001b[0m \u001b[0;34m=\u001b[0m \u001b[0mfix\u001b[0m\u001b[0;34m(\u001b[0m\u001b[0margs\u001b[0m\u001b[0;34m,\u001b[0m \u001b[0mkw\u001b[0m\u001b[0;34m,\u001b[0m \u001b[0msig\u001b[0m\u001b[0;34m)\u001b[0m\u001b[0;34m\u001b[0m\u001b[0;34m\u001b[0m\u001b[0m\n\u001b[0;32m--> 231\u001b[0;31m             \u001b[0;32mreturn\u001b[0m \u001b[0mcaller\u001b[0m\u001b[0;34m(\u001b[0m\u001b[0mfunc\u001b[0m\u001b[0;34m,\u001b[0m \u001b[0;34m*\u001b[0m\u001b[0;34m(\u001b[0m\u001b[0mextras\u001b[0m \u001b[0;34m+\u001b[0m \u001b[0margs\u001b[0m\u001b[0;34m)\u001b[0m\u001b[0;34m,\u001b[0m \u001b[0;34m**\u001b[0m\u001b[0mkw\u001b[0m\u001b[0;34m)\u001b[0m\u001b[0;34m\u001b[0m\u001b[0;34m\u001b[0m\u001b[0m\n\u001b[0m\u001b[1;32m    232\u001b[0m     \u001b[0mfun\u001b[0m\u001b[0;34m.\u001b[0m\u001b[0m__name__\u001b[0m \u001b[0;34m=\u001b[0m \u001b[0mfunc\u001b[0m\u001b[0;34m.\u001b[0m\u001b[0m__name__\u001b[0m\u001b[0;34m\u001b[0m\u001b[0;34m\u001b[0m\u001b[0m\n\u001b[1;32m    233\u001b[0m     \u001b[0mfun\u001b[0m\u001b[0;34m.\u001b[0m\u001b[0m__doc__\u001b[0m \u001b[0;34m=\u001b[0m \u001b[0mfunc\u001b[0m\u001b[0;34m.\u001b[0m\u001b[0m__doc__\u001b[0m\u001b[0;34m\u001b[0m\u001b[0;34m\u001b[0m\u001b[0m\n",
      "\u001b[0;32m/usr/local/anaconda3/lib/python3.8/site-packages/IPython/core/magic.py\u001b[0m in \u001b[0;36m<lambda>\u001b[0;34m(f, *a, **k)\u001b[0m\n\u001b[1;32m    185\u001b[0m     \u001b[0;31m# but it's overkill for just that one bit of state.\u001b[0m\u001b[0;34m\u001b[0m\u001b[0;34m\u001b[0m\u001b[0;34m\u001b[0m\u001b[0m\n\u001b[1;32m    186\u001b[0m     \u001b[0;32mdef\u001b[0m \u001b[0mmagic_deco\u001b[0m\u001b[0;34m(\u001b[0m\u001b[0marg\u001b[0m\u001b[0;34m)\u001b[0m\u001b[0;34m:\u001b[0m\u001b[0;34m\u001b[0m\u001b[0;34m\u001b[0m\u001b[0m\n\u001b[0;32m--> 187\u001b[0;31m         \u001b[0mcall\u001b[0m \u001b[0;34m=\u001b[0m \u001b[0;32mlambda\u001b[0m \u001b[0mf\u001b[0m\u001b[0;34m,\u001b[0m \u001b[0;34m*\u001b[0m\u001b[0ma\u001b[0m\u001b[0;34m,\u001b[0m \u001b[0;34m**\u001b[0m\u001b[0mk\u001b[0m\u001b[0;34m:\u001b[0m \u001b[0mf\u001b[0m\u001b[0;34m(\u001b[0m\u001b[0;34m*\u001b[0m\u001b[0ma\u001b[0m\u001b[0;34m,\u001b[0m \u001b[0;34m**\u001b[0m\u001b[0mk\u001b[0m\u001b[0;34m)\u001b[0m\u001b[0;34m\u001b[0m\u001b[0;34m\u001b[0m\u001b[0m\n\u001b[0m\u001b[1;32m    188\u001b[0m \u001b[0;34m\u001b[0m\u001b[0m\n\u001b[1;32m    189\u001b[0m         \u001b[0;32mif\u001b[0m \u001b[0mcallable\u001b[0m\u001b[0;34m(\u001b[0m\u001b[0marg\u001b[0m\u001b[0;34m)\u001b[0m\u001b[0;34m:\u001b[0m\u001b[0;34m\u001b[0m\u001b[0;34m\u001b[0m\u001b[0m\n",
      "\u001b[0;32m/usr/local/anaconda3/lib/python3.8/site-packages/IPython/core/magics/script.py\u001b[0m in \u001b[0;36mshebang\u001b[0;34m(self, line, cell)\u001b[0m\n\u001b[1;32m    243\u001b[0m             \u001b[0msys\u001b[0m\u001b[0;34m.\u001b[0m\u001b[0mstderr\u001b[0m\u001b[0;34m.\u001b[0m\u001b[0mflush\u001b[0m\u001b[0;34m(\u001b[0m\u001b[0;34m)\u001b[0m\u001b[0;34m\u001b[0m\u001b[0;34m\u001b[0m\u001b[0m\n\u001b[1;32m    244\u001b[0m         \u001b[0;32mif\u001b[0m \u001b[0margs\u001b[0m\u001b[0;34m.\u001b[0m\u001b[0mraise_error\u001b[0m \u001b[0;32mand\u001b[0m \u001b[0mp\u001b[0m\u001b[0;34m.\u001b[0m\u001b[0mreturncode\u001b[0m\u001b[0;34m!=\u001b[0m\u001b[0;36m0\u001b[0m\u001b[0;34m:\u001b[0m\u001b[0;34m\u001b[0m\u001b[0;34m\u001b[0m\u001b[0m\n\u001b[0;32m--> 245\u001b[0;31m             \u001b[0;32mraise\u001b[0m \u001b[0mCalledProcessError\u001b[0m\u001b[0;34m(\u001b[0m\u001b[0mp\u001b[0m\u001b[0;34m.\u001b[0m\u001b[0mreturncode\u001b[0m\u001b[0;34m,\u001b[0m \u001b[0mcell\u001b[0m\u001b[0;34m,\u001b[0m \u001b[0moutput\u001b[0m\u001b[0;34m=\u001b[0m\u001b[0mout\u001b[0m\u001b[0;34m,\u001b[0m \u001b[0mstderr\u001b[0m\u001b[0;34m=\u001b[0m\u001b[0merr\u001b[0m\u001b[0;34m)\u001b[0m\u001b[0;34m\u001b[0m\u001b[0;34m\u001b[0m\u001b[0m\n\u001b[0m\u001b[1;32m    246\u001b[0m \u001b[0;34m\u001b[0m\u001b[0m\n\u001b[1;32m    247\u001b[0m     \u001b[0;32mdef\u001b[0m \u001b[0m_run_script\u001b[0m\u001b[0;34m(\u001b[0m\u001b[0mself\u001b[0m\u001b[0;34m,\u001b[0m \u001b[0mp\u001b[0m\u001b[0;34m,\u001b[0m \u001b[0mcell\u001b[0m\u001b[0;34m,\u001b[0m \u001b[0mto_close\u001b[0m\u001b[0;34m)\u001b[0m\u001b[0;34m:\u001b[0m\u001b[0;34m\u001b[0m\u001b[0;34m\u001b[0m\u001b[0m\n",
      "\u001b[0;31mCalledProcessError\u001b[0m: Command 'b'ssh -T git@github.com\\n'' returned non-zero exit status 1."
     ]
    }
   ],
   "source": [
    "%%bash\n",
    "ssh -T git@github.com"
   ]
  },
  {
   "cell_type": "markdown",
   "metadata": {
    "tags": []
   },
   "source": [
    "#### *If you get a failed reponse, read carefully!*\n",
    "\n",
    "This should return your username, confirming you did everything correctly in setting up SSH for github!\n",
    "```\n",
    "Warning: Permanently added the RSA host key for IP address '140.82.113.4' to the list of known hosts.\n",
    "Hi atnjqt! You've successfully authenticated, but GitHub does not provide shell access.\n",
    "```\n",
    "\n",
    "#### *If you do actually get an error message*\n",
    "\n",
    "For example:\n",
    "\n",
    "```bash\n",
    "git@github.com: Permission denied (publickey).\n",
    "```\n",
    "- you should restart this notebook & start fresh, including the upload of public ssh key to github\n",
    "___________\n",
    "\n",
    "### Questions?\n",
    "\n",
    "Please reach out to [etienne.jacquot@asc.upenn.edu](mailto:etienne.jacquot@asc.upenn.edu) or on the github repo [https://github.com/atnjqt/ssh-keygen-jhub](https://github.com/atnjqt/ssh-keygen-jhub)"
   ]
  }
 ],
 "metadata": {
  "kernelspec": {
   "display_name": "Python 3",
   "language": "python",
   "name": "python3"
  },
  "language_info": {
   "codemirror_mode": {
    "name": "ipython",
    "version": 3
   },
   "file_extension": ".py",
   "mimetype": "text/x-python",
   "name": "python",
   "nbconvert_exporter": "python",
   "pygments_lexer": "ipython3",
   "version": "3.8.8"
  }
 },
 "nbformat": 4,
 "nbformat_minor": 4
}
