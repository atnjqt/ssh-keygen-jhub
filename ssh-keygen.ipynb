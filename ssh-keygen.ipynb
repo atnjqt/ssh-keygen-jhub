{
 "cells": [
  {
   "cell_type": "markdown",
   "metadata": {},
   "source": [
    "# Generate SSH Keys on [Commjhub](https://commjhub.asc.upenn.edu/) for GitHub 🚀🔑⚡\n",
    "\n",
    "Etienne P Jacquot - [epj@asc.upenn.edu](mailto:epj@asc.upenn.edu)\n",
    "\n",
    "- Last edited: 08/28/2023\n",
    "\n",
    "________\n",
    "\n",
    "## Getting Started\n",
    "\n",
    "Following official instructions [here](https://docs.github.com/en/github/authenticating-to-github/generating-a-new-ssh-key-and-adding-it-to-the-ssh-agent).\n",
    "\n",
    "> We do *NOT* want to have undergraduate students entering passwords in plain text -- Configuring SSH keys is a must!!!\n",
    "\n",
    "_________________\n",
    "\n",
    "### 1. Create your SSH key & add to your SSH-Agent:\n",
    "\n",
    "- Default directory is for `$HOME/.ssh/id_ed25519` by including `-f` flag\n",
    "\n",
    "- We default to **NO** password by including `-N \"\"` flag & empty phrase\n",
    "\n",
    "- We include the `<<< y` to overwrite an existing key!\n",
    "\n",
    "- the `&& \\` joins multiple bash commands and wraps text (*i.e. for formatting a one liner*)\n"
   ]
  },
  {
   "cell_type": "code",
   "execution_count": 1,
   "metadata": {},
   "outputs": [
    {
     "name": "stdout",
     "output_type": "stream",
     "text": [
      "Generating public/private ed25519 key pair.\n",
      "/Commjhub/jupyterhub/home/atnjqt/.ssh/id_ed25519 already exists.\n",
      "Overwrite (y/n)? Your identification has been saved in /Commjhub/jupyterhub/home/atnjqt/.ssh/id_ed25519\n",
      "Your public key has been saved in /Commjhub/jupyterhub/home/atnjqt/.ssh/id_ed25519.pub\n",
      "The key fingerprint is:\n",
      "SHA256:MwAaHgG754s3egdHYb3DW35CJeBKM1RczTO3vD7bp+c atnjqt@commjhub.asc.upenn.edu\n",
      "The key's randomart image is:\n",
      "+--[ED25519 256]--+\n",
      "|..+.o+oo.o       |\n",
      "| o =ooo . * .    |\n",
      "|. o.+oo. o = .   |\n",
      "| . ..++.o   o    |\n",
      "|. ...  *S    .   |\n",
      "| o. . . oo. .    |\n",
      "|  .o     o .     |\n",
      "| .+..       o.  o|\n",
      "|o+.o        .oo=E|\n",
      "+----[SHA256]-----+\n",
      "Agent pid 2066110\n"
     ]
    },
    {
     "name": "stderr",
     "output_type": "stream",
     "text": [
      "Identity added: /Commjhub/jupyterhub/home/atnjqt/.ssh/id_ed25519 (atnjqt@commjhub.asc.upenn.edu)\n"
     ]
    }
   ],
   "source": [
    "%%bash\n",
    "ssh-keygen -t ed25519 -C $USER\"@commjhub.asc.upenn.edu\" -f $HOME/.ssh/id_ed25519 -N \"\" <<< y && \\\n",
    "eval \"$(ssh-agent -s)\" && \\\n",
    "ssh-add $HOME/.ssh/id_ed25519"
   ]
  },
  {
   "cell_type": "markdown",
   "metadata": {},
   "source": [
    "_______\n",
    "### 2. Copy Public SSH key from Commjhub\n",
    "\n",
    "\n",
    "Copy the full result of `.ssh/id_ed25519.pub` to your clipboard\n",
    "\n",
    "> **Remember to never share your private key! If compromised, you need to simple regenerate.**\n",
    "> - As in, do not share `.ssh/id_ed25519`! That is like sharing a blueprint to replicate your house key 🔑"
   ]
  },
  {
   "cell_type": "code",
   "execution_count": 3,
   "metadata": {},
   "outputs": [
    {
     "name": "stdout",
     "output_type": "stream",
     "text": [
      "ssh-ed25519 AAAAC3NzaC1lZDI1NTE5AAAAINCPydxnLFoLG+8nKS1+m1pGbCsEWeQ1411kvjZRTjL8 atnjqt@commjhub.asc.upenn.edu\n"
     ]
    }
   ],
   "source": [
    "%%bash\n",
    "cat $HOME/.ssh/id_ed25519.pub"
   ]
  },
  {
   "cell_type": "markdown",
   "metadata": {},
   "source": [
    "____________\n",
    "### 3. Upload Public SSH key to Github\n",
    "\n",
    "Navigate to [https://github.com/settings/keys](https://github.com/settings/keys) and upload your public SSH key (more info [here](https://docs.github.com/en/github/authenticating-to-github/adding-a-new-ssh-key-to-your-github-account)).\n",
    "\n",
    "> If your GitHub account has MFA enabled, you may need to confirm two factor authentication during the key upload\n",
    "\n",
    "____________\n",
    "\n",
    "## 4. Testing your SSH Access to Github.com\n",
    "\n",
    "Once your SSH public key is uploaded to github, proceed to securely test your connection (more info [here](https://docs.github.com/en/github/authenticating-to-github/testing-your-ssh-connection)).\n",
    "\n",
    "\n",
    "### Retrieve SSH host information & RSA fingerprint over the internet\n",
    "\n",
    "- *Manually navigate to obtain the **Official RSA public key fingerprint for Github.com** [here](https://docs.github.com/en/github/authenticating-to-github/githubs-ssh-key-fingerprints)*\n",
    "    - You must set this as your `rsa_Ed25519=SHA256:...` value in the cell below!\n",
    "   \n",
    "\n",
    "\n",
    "\n",
    "- We then scan with `ssh-keyscan` and write response to local file [./github_host_info](./github_host_info). We then generate the fingerprint hash for our scanned host information and write to another local file [./fingerprint_rsa](./fingerprint_rsa). \n",
    "\n",
    "\n",
    "> *This allows us to compare the trusted host identifier with the actual host (untrusted) identifier we get over public internet, to then safely add to our known_hosts file... \n",
    "This example is based on a helpful serverfault question [here](https://serverfault.com/questions/856194/securely-add-a-host-e-g-github-to-the-ssh-known-hosts-file).*\n"
   ]
  },
  {
   "cell_type": "code",
   "execution_count": 4,
   "metadata": {},
   "outputs": [
    {
     "name": "stderr",
     "output_type": "stream",
     "text": [
      "# github.com:22 SSH-2.0-babeld-22243ffb\n"
     ]
    }
   ],
   "source": [
    "%%bash\n",
    "rm -rf $HOME/.ssh/known_hosts\n",
    "#export rsa_fp='SHA256:nThbg6kXUpJWGl7E1IGOCspRomTxdCARLviKw6E5SY8' # <-- ADD LEGIT VALUE HERE\n",
    "export rsa_Ed25519='SHA256:+DiY3wvvV6TuJJhbpZisF/zLDA0zPMSvHdkr4UvCOqU' # <-- ADD LEGIT VALUE HERE\n",
    "\n",
    "ssh-keyscan -t ed25519 github.com | tee ./github_host_info | ssh-keygen -lf - >> ./fingerprint_ed25519\n",
    "set -e # <-- Bash will break on error (i.e. if python assertion fails)\n",
    "python -c \"assert('$rsa_Ed25519' == open('./fingerprint_ed25519', 'r').read().split()[1])\"\n",
    "cat ./github_host_info >> $HOME/.ssh/known_hosts"
   ]
  },
  {
   "cell_type": "markdown",
   "metadata": {
    "tags": []
   },
   "source": [
    "#### *If the above assertion fails...*\n",
    "\n",
    "Then the value was *not* added to your known hosts file... Try to resolve with:\n",
    "\n",
    "- confirm you set the correct `rsa_pubkey_fingerprint` from [here](https://docs.github.com/en/github/authenticating-to-github/githubs-ssh-key-fingerprints)\n",
    "- confirm there is no man in the middle attack for github.com on your local network (you have bigger problems if that is the case!)...\n",
    "________________\n",
    "\n",
    "## 5. Finally, Confirm SSH Connectivity to Github\n",
    "\n",
    "To confirm your access:\n",
    "- we avoid `-StrictHostKeyChecking no` flag which is obviously insecure"
   ]
  },
  {
   "cell_type": "code",
   "execution_count": 5,
   "metadata": {
    "tags": []
   },
   "outputs": [
    {
     "name": "stdout",
     "output_type": "stream",
     "text": [
      "Warning: Permanently added the ED25519 host key for IP address '140.82.114.3' to the list of known hosts.\n",
      "Hi atnjqt! You've successfully authenticated, but GitHub does not provide shell access.\n"
     ]
    }
   ],
   "source": [
    "!ssh -T git@github.com "
   ]
  },
  {
   "cell_type": "markdown",
   "metadata": {
    "tags": []
   },
   "source": [
    "#### *If you get a failed reponse, read carefully!*\n",
    "\n",
    "This should return your username, confirming you did everything correctly in setting up SSH for github!\n",
    "```\n",
    "Warning: Permanently added the RSA host key for IP address '140.82.113.4' to the list of known hosts.\n",
    "Hi atnjqt! You've successfully authenticated, but GitHub does not provide shell access.\n",
    "```\n",
    "\n",
    "#### *If you do actually get an error message*\n",
    "\n",
    "For example:\n",
    "\n",
    "```bash\n",
    "git@github.com: Permission denied (publickey).\n",
    "```\n",
    "- you should restart this notebook & start fresh, including the upload of public ssh key to github\n",
    "___________\n",
    "\n",
    "### Questions?\n",
    "\n",
    "Please reach out to [etienne.jacquot@asc.upenn.edu](mailto:etienne.jacquot@asc.upenn.edu) or on the github repo [https://github.com/atnjqt/ssh-keygen-jhub](https://github.com/atnjqt/ssh-keygen-jhub)"
   ]
  }
 ],
 "metadata": {
  "citation-manager": {
   "items": {}
  },
  "kernelspec": {
   "display_name": "Python 3.8",
   "language": "python",
   "name": "python3"
  },
  "language_info": {
   "codemirror_mode": {
    "name": "ipython",
    "version": 3
   },
   "file_extension": ".py",
   "mimetype": "text/x-python",
   "name": "python",
   "nbconvert_exporter": "python",
   "pygments_lexer": "ipython3",
   "version": "3.8.8"
  }
 },
 "nbformat": 4,
 "nbformat_minor": 4
}
